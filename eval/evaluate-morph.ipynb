{
 "cells": [
  {
   "cell_type": "code",
   "execution_count": 85,
   "metadata": {},
   "outputs": [],
   "source": [
    "import gradio as gr\n",
    "import numpy as np\n",
    "import IPython\n",
    "from IPython.display import Audio, display\n",
    "import torch\n",
    "import librosa, librosa.display\n",
    "from tqdm import tqdm\n",
    "from stqdm import stqdm\n",
    "import json\n",
    "\n",
    "import sys  \n",
    "sys.path.insert(0, '../')\n",
    "from audioldm2 import text_to_audio, build_model, seed_everything, make_batch_for_text_to_audio\n",
    "from audioldm2.latent_diffusion.modules.diffusionmodules.util import (\n",
    "    make_ddim_sampling_parameters,\n",
    "    make_ddim_timesteps,\n",
    "    noise_like,\n",
    "    extract_into_tensor,\n",
    ")\n",
    "from audioldm2.latent_diffusion.models.ddim import DDIMSampler\n",
    "from audioldm2.utilities import *\n",
    "from audioldm2.utilities.audio import *\n",
    "from audioldm2.utilities.data import *\n",
    "from audioldm2.utils import default_audioldm_config\n",
    "\n",
    "from audioldm2.gaverutils import gaver_sounds\n",
    "\n",
    "from audioldm2.latent_diffusion.modules.attention import SpatialTransformer, CrossAttention\n",
    "\n",
    "from einops import rearrange, repeat\n",
    "\n",
    "from scipy.stats import pearsonr, ttest_ind\n",
    "\n",
    "\n",
    "from interfaces.diffusion_helper_qkv import *\n",
    "\n",
    "\n",
    "import random\n",
    "\n",
    "import soundfile as sf\n",
    "\n",
    "%matplotlib inline\n",
    "import matplotlib.pyplot as plt"
   ]
  },
  {
   "cell_type": "code",
   "execution_count": 2,
   "metadata": {},
   "outputs": [],
   "source": [
    "%load_ext autoreload\n",
    "%autoreload 2\n",
    "%reload_ext autoreload"
   ]
  },
  {
   "cell_type": "code",
   "execution_count": 3,
   "metadata": {},
   "outputs": [],
   "source": [
    "import warnings\n",
    "\n",
    "def fxn():\n",
    "    warnings.warn(\"deprecated\", DeprecationWarning)\n",
    "\n",
    "with warnings.catch_warnings():\n",
    "    warnings.simplefilter(\"ignore\")\n",
    "    fxn()\n"
   ]
  },
  {
   "cell_type": "code",
   "execution_count": 4,
   "metadata": {},
   "outputs": [],
   "source": [
    "def get_model(model_name):\n",
    "    print('Loading model')\n",
    "    \n",
    "    latent_diffusion = build_model(model_name=model_name)\n",
    "    latent_diffusion.latent_t_size = int(duration * latent_t_per_second)\n",
    "\n",
    "    print('Model loaded')\n",
    "    return latent_diffusion\n"
   ]
  },
  {
   "cell_type": "code",
   "execution_count": 5,
   "metadata": {},
   "outputs": [
    {
     "name": "stdout",
     "output_type": "stream",
     "text": [
      "Loading model\n",
      "Loading AudioLDM-2: audioldm_16k_crossattn_t5\n",
      "Loading model on cuda:0\n",
      "{'variables': {'sampling_rate': 16000, 'mel_bins': 64, 'latent_embed_dim': 8, 'latent_t_size': 256, 'latent_f_size': 16, 'in_channels': 8, 'optimize_ddpm_parameter': True, 'warmup_steps': 5000}, 'step': {'validation_every_n_epochs': 1, 'save_checkpoint_every_n_steps': 5000, 'max_steps': 1500000, 'save_top_k': 2}, 'preprocessing': {'audio': {'sampling_rate': 16000, 'max_wav_value': 32768, 'duration': 10.24}, 'stft': {'filter_length': 1024, 'hop_length': 160, 'win_length': 1024}, 'mel': {'n_mel_channels': 64, 'mel_fmin': 0, 'mel_fmax': 8000}}, 'augmentation': {'mixup': 0}, 'model': {'target': 'audioldm2.latent_diffusion.models.ddpm.LatentDiffusion', 'params': {'first_stage_config': {'base_learning_rate': 8e-06, 'target': 'audioldm2.latent_encoder.autoencoder.AutoencoderKL', 'params': {'sampling_rate': 16000, 'batchsize': 4, 'monitor': 'val/rec_loss', 'image_key': 'fbank', 'subband': 1, 'embed_dim': 8, 'time_shuffle': 1, 'lossconfig': {'target': 'audioldm2.latent_diffusion.modules.losses.LPIPSWithDiscriminator', 'params': {'disc_start': 50001, 'kl_weight': 1000, 'disc_weight': 0.5, 'disc_in_channels': 1}}, 'ddconfig': {'double_z': True, 'mel_bins': 64, 'z_channels': 8, 'resolution': 256, 'downsample_time': False, 'in_channels': 1, 'out_ch': 1, 'ch': 128, 'ch_mult': [1, 2, 4], 'num_res_blocks': 2, 'attn_resolutions': [], 'dropout': 0}}}, 'base_learning_rate': 0.0001, 'warmup_steps': 5000, 'optimize_ddpm_parameter': True, 'sampling_rate': 16000, 'batchsize': 16, 'linear_start': 0.0015, 'linear_end': 0.0195, 'num_timesteps_cond': 1, 'log_every_t': 200, 'timesteps': 1000, 'unconditional_prob_cfg': 0.1, 'parameterization': 'eps', 'first_stage_key': 'fbank', 'latent_t_size': 256, 'latent_f_size': 16, 'channels': 8, 'monitor': 'val/loss_simple_ema', 'scale_by_std': True, 'unet_config': {'target': 'audioldm2.latent_diffusion.modules.diffusionmodules.openaimodel.UNetModel', 'params': {'image_size': 64, 'context_dim': [1024], 'in_channels': 8, 'out_channels': 8, 'model_channels': 128, 'attention_resolutions': [8, 4, 2], 'num_res_blocks': 2, 'channel_mult': [1, 2, 3, 5], 'num_head_channels': 32, 'use_spatial_transformer': True, 'transformer_depth': 1}}, 'evaluation_params': {'unconditional_guidance_scale': 3.5, 'ddim_sampling_steps': 200, 'n_candidates_per_samples': 3}, 'cond_stage_config': {'crossattn_flan_t5': {'cond_stage_key': 'text', 'conditioning_key': 'crossattn', 'target': 'audioldm2.latent_diffusion.modules.encoders.modules.FlanT5HiddenState'}}}}}\n"
     ]
    },
    {
     "name": "stderr",
     "output_type": "stream",
     "text": [
      "/home/purnima/anaconda3/envs/audioldm2/lib/python3.8/site-packages/torch/functional.py:507: UserWarning: torch.meshgrid: in an upcoming release, it will be required to pass the indexing argument. (Triggered internally at ../aten/src/ATen/native/TensorShape.cpp:3549.)\n",
      "  return _VF.meshgrid(tensors, **kwargs)  # type: ignore[attr-defined]\n",
      "/home/purnima/anaconda3/envs/audioldm2/lib/python3.8/site-packages/torchaudio/transforms/_transforms.py:580: UserWarning: Argument 'onesided' has been deprecated and has no influence on the behavior of this module.\n",
      "  warnings.warn(\n"
     ]
    },
    {
     "name": "stdout",
     "output_type": "stream",
     "text": [
      "DiffusionWrapper has 265.53 M params.\n"
     ]
    },
    {
     "name": "stderr",
     "output_type": "stream",
     "text": [
      "/home/purnima/anaconda3/envs/audioldm2/lib/python3.8/site-packages/torch/nn/utils/weight_norm.py:28: UserWarning: torch.nn.utils.weight_norm is deprecated in favor of torch.nn.utils.parametrizations.weight_norm.\n",
      "  warnings.warn(\"torch.nn.utils.weight_norm is deprecated in favor of torch.nn.utils.parametrizations.weight_norm.\")\n"
     ]
    },
    {
     "name": "stdout",
     "output_type": "stream",
     "text": [
      "Model loaded\n"
     ]
    }
   ],
   "source": [
    "model_name = 'audioldm_16k_crossattn_t5'\n",
    "latent_t_per_second=25.6\n",
    "sample_rate=16000\n",
    "duration = 10.0 #Duration is minimum 10 secs. The generated sounds are weird for <10secs\n",
    "guidance_scale = 3\n",
    "random_seed = 42\n",
    "n_candidates = 1\n",
    "batch_size = 1\n",
    "ddim_steps = 20\n",
    "\n",
    "import os\n",
    "os.environ[\"TOKENIZERS_PARALLELISM\"] = \"false\"\n",
    "\n",
    "\n",
    "latent_diffusion = get_model(model_name)"
   ]
  },
  {
   "cell_type": "code",
   "execution_count": null,
   "metadata": {},
   "outputs": [],
   "source": []
  },
  {
   "cell_type": "code",
   "execution_count": 6,
   "metadata": {},
   "outputs": [],
   "source": [
    "import os\n",
    "os.environ[\"TOKENIZERS_PARALLELISM\"] = \"false\""
   ]
  },
  {
   "cell_type": "code",
   "execution_count": null,
   "metadata": {},
   "outputs": [],
   "source": []
  },
  {
   "cell_type": "code",
   "execution_count": 7,
   "metadata": {},
   "outputs": [],
   "source": [
    "def get_word_pairs():\n",
    "    adjective_noun_pairs = []\n",
    "    verb_noun_pairs = []\n",
    "\n",
    "    with open('AudioPairBank/adjective_noun_pairs.txt') as f:\n",
    "        adjective_noun_pairs_str = f.read()\n",
    "\n",
    "    with open('AudioPairBank/verb_noun_pairs.txt') as f:\n",
    "        verb_noun_pairs_str = f.read()\n",
    "\n",
    "    adjective_noun_pairs = adjective_noun_pairs_str.split(\"\\n\")\n",
    "    verb_noun_pairs = verb_noun_pairs_str.split(\"\\n\")\n",
    "\n",
    "    return np.array(adjective_noun_pairs), np.array(verb_noun_pairs)\n",
    "\n",
    "adjective_noun_pairs, verb_noun_pairs = get_word_pairs()"
   ]
  },
  {
   "cell_type": "code",
   "execution_count": 8,
   "metadata": {},
   "outputs": [],
   "source": [
    "# adjective_noun_pairs"
   ]
  },
  {
   "cell_type": "code",
   "execution_count": 9,
   "metadata": {},
   "outputs": [
    {
     "data": {
      "text/plain": [
       "(759, 359)"
      ]
     },
     "execution_count": 9,
     "metadata": {},
     "output_type": "execute_result"
    }
   ],
   "source": [
    "len(adjective_noun_pairs), len(verb_noun_pairs)"
   ]
  },
  {
   "cell_type": "code",
   "execution_count": 10,
   "metadata": {},
   "outputs": [],
   "source": [
    "def score_wav_text(wav_arr, text, random_seed, is_reverse=False): #return change in score and pearson corr\n",
    "    seed_everything(random_seed)\n",
    "    score_list = []\n",
    "    for ind, wav in enumerate(wavs):\n",
    "        wav = torch.from_numpy(wav).unsqueeze(dim=0).cuda()\n",
    "        score = latent_diffusion.clap.cos_similarity(wav, text)\n",
    "        # print(ind, score)\n",
    "        score_list.append(score.detach().cpu())\n",
    "\n",
    "    change_in_score = torch.abs(score_list[0] - score_list[-1])\n",
    "    if not is_reverse:\n",
    "        corr = np.abs(pearsonr(score_list, np.arange(0, len(score_list), 1)).statistic)\n",
    "    else:\n",
    "        corr = np.abs(pearsonr(score_list, np.arange(len(score_list), 0, -1)).statistic)\n",
    "\n",
    "    return change_in_score, corr, score_list"
   ]
  },
  {
   "cell_type": "code",
   "execution_count": null,
   "metadata": {},
   "outputs": [],
   "source": []
  },
  {
   "cell_type": "markdown",
   "metadata": {},
   "source": [
    "# Morphing"
   ]
  },
  {
   "cell_type": "code",
   "execution_count": null,
   "metadata": {},
   "outputs": [],
   "source": []
  },
  {
   "cell_type": "code",
   "execution_count": 11,
   "metadata": {},
   "outputs": [],
   "source": [
    "num_bootstrap = 100\n",
    "num_bootstrap_choices = 50\n",
    "random_seed = 42"
   ]
  },
  {
   "cell_type": "code",
   "execution_count": 12,
   "metadata": {},
   "outputs": [],
   "source": [
    "def create_samples(num_choices=1, source_type=\"adjective\", target_type=\"adjective\"):\n",
    "    source_pairs_choices = []\n",
    "    target_pairs_choices = []\n",
    "    dir_p = \"\"\n",
    "    if source_type == 'adjective':\n",
    "        source_pairs_choices = np.random.choice(adjective_noun_pairs, num_choices, replace=False)\n",
    "        if target_type == 'adjective':\n",
    "            target_pairs_choices = np.random.choice(adjective_noun_pairs, num_choices, replace=False)\n",
    "            dir_p = os.path.join('samples_morph_2', 'adjective_noun_to_adjective_noun')\n",
    "        else:\n",
    "            target_pairs_choices = np.random.choice(verb_noun_pairs, num_choices, replace=False)\n",
    "            dir_p = os.path.join('samples_morph_2', 'adjective_noun_to_verb_noun')\n",
    "    elif source_type == 'verb':\n",
    "        source_pairs_choices = np.random.choice(verb_noun_pairs, num_choices, replace=False)\n",
    "        if target_type == 'verb':\n",
    "            target_pairs_choices = np.random.choice(verb_noun_pairs, num_choices, replace=False)\n",
    "            dir_p = os.path.join('samples_morph_2', 'verb_noun_to_verb_noun')\n",
    "        else:\n",
    "            target_pairs_choices = np.random.choice(adjective_noun_pairs, num_choices, replace=False)\n",
    "            dir_p = os.path.join('samples_morph_2', 'verb_noun_to_adjective_noun')\n",
    "\n",
    "    os.makedirs(dir_p, exist_ok=True)\n",
    "    for source_ind, source_pairs_choice in enumerate(source_pairs_choices):\n",
    "        target_pairs_choice = target_pairs_choices[source_ind]\n",
    "\n",
    "        if source_pairs_choice is not None and source_pairs_choice != \"\" and \\\n",
    "        target_pairs_choice is not None and target_pairs_choice != \"\":\n",
    "            print(source_pairs_choice, target_pairs_choice)\n",
    "\n",
    "            source_pairs_choice_txt = source_pairs_choice\n",
    "            target_pairs_choice_txt = target_pairs_choice\n",
    "\n",
    "            for i in np.arange(0,1.1,0.1):\n",
    "                predicted_wav, _ = sample_diffusion_attention_core(source_text=source_pairs_choice_txt, target_text=target_pairs_choice_txt, random_seed=random_seed, ddim_steps=20,\\\n",
    "                                                       latent_diffusion=latent_diffusion,\n",
    "                                                       interpolation_level = i,\n",
    "                                                       interpolate_terms = ['q','k','v'],\n",
    "                                                       disable_tqdmoutput = True\n",
    "                                                       )\n",
    "               \n",
    "                fname = source_pairs_choice.replace(\" \",\"_\")+\"_to_\"+target_pairs_choice.replace(\" \",\"_\")\n",
    "                fname += \"_\"+'{0:.1f}'.format(i)+\".wav\"\n",
    "                \n",
    "                sf.write(os.path.join(dir_p, fname), predicted_wav, samplerate=16000) "
   ]
  },
  {
   "cell_type": "code",
   "execution_count": 24,
   "metadata": {},
   "outputs": [],
   "source": [
    "def create_samples_2(dir_p, source_pairs_choices, target_pairs_choices):\n",
    "    os.makedirs(dir_p, exist_ok=True)\n",
    "    for source_ind, source_pairs_choice in enumerate(source_pairs_choices):\n",
    "        target_pairs_choice = target_pairs_choices[source_ind]\n",
    "\n",
    "        if source_pairs_choice is not None and source_pairs_choice != \"\" and \\\n",
    "        target_pairs_choice is not None and target_pairs_choice != \"\":\n",
    "            print(source_pairs_choice, target_pairs_choice)\n",
    "\n",
    "            source_pairs_choice_txt = source_pairs_choice\n",
    "            target_pairs_choice_txt = target_pairs_choice\n",
    "\n",
    "            for i in np.arange(0,1.1,0.1):\n",
    "                predicted_wav, _ = sample_diffusion_attention_core(source_text=source_pairs_choice_txt, target_text=target_pairs_choice_txt, random_seed=random_seed, ddim_steps=20,\\\n",
    "                                                       latent_diffusion=latent_diffusion,\n",
    "                                                       interpolation_level = i,\n",
    "                                                       interpolate_terms = ['q','k','v'],\n",
    "                                                       disable_tqdmoutput = True\n",
    "                                                       )\n",
    "               \n",
    "                fname = source_pairs_choice.replace(\" \",\"_\")+\"_to_\"+target_pairs_choice.replace(\" \",\"_\")\n",
    "                fname += \"_\"+'{0:.1f}'.format(i)+\".wav\"\n",
    "                \n",
    "                sf.write(os.path.join(dir_p, fname), predicted_wav, samplerate=16000) "
   ]
  },
  {
   "cell_type": "code",
   "execution_count": null,
   "metadata": {},
   "outputs": [],
   "source": []
  },
  {
   "cell_type": "code",
   "execution_count": 83,
   "metadata": {},
   "outputs": [
    {
     "name": "stdout",
     "output_type": "stream",
     "text": [
      "Unique =  50\n"
     ]
    },
    {
     "data": {
      "text/plain": [
       "({'whistling_train_to_ringing_ball': 10,\n",
       "  'whistling_bird_to_passing_airplane': 10,\n",
       "  'flying_engine_to_whispering_speech': 10,\n",
       "  'clicking_fire_to_splashing_fountain': 10,\n",
       "  'crackling_footsteps_to_breaking_wood': 10,\n",
       "  'talking_computer_to_clicking_tick': 10,\n",
       "  'clicking_computer_to_ringing_phone': 10,\n",
       "  'falling_wind_to_talking_voice': 10,\n",
       "  'splashing_rain_to_crackling_fire': 10,\n",
       "  'walking_dog_to_howling_wind': 10,\n",
       "  'falling_noise_to_opening_coke': 10,\n",
       "  'whispering_english_to_whispering_monster': 10,\n",
       "  'banging_war_to_accelerating_engine': 10,\n",
       "  'whining_noise_to_clicking_office': 10,\n",
       "  'braking_car_to_opening_trash': 10,\n",
       "  'crying_woman_to_growling_creatures': 10,\n",
       "  'rolling_thunder_to_passing_ship': 10,\n",
       "  'falling_coin_to_opening_window': 10,\n",
       "  'crying_animal_to_falling_rock': 10,\n",
       "  'growling_scream_to_banging_door': 10,\n",
       "  'breathing_woman_to_laughing_speech': 10,\n",
       "  'squeaking_metal_to_crackling_snow': 10,\n",
       "  'screaming_voice_to_growling_scream': 10,\n",
       "  'ringing_clock_to_crying_dog': 10,\n",
       "  'flying_helicopter_to_breaking_glasses': 10,\n",
       "  'passing_engine_to_clicking_water': 10,\n",
       "  'banging_metal_to_waving_water': 10,\n",
       "  'growling_dragon_to_passing_engine': 10,\n",
       "  'opening_book_to_rolling_metal': 10,\n",
       "  'talking_baby_to_groaning_man': 10,\n",
       "  'growling_voice_to_talking_woman': 10,\n",
       "  'banging_bird_to_dripping_metal': 10,\n",
       "  'whispering_speech_to_starting_machine': 10,\n",
       "  'opening_voice_to_clicking_glitch': 10,\n",
       "  'whistling_railway_to_ringing_alert': 10,\n",
       "  'ringing_metal_to_singing_woman': 10,\n",
       "  'breaking_wood_to_ticking_bell': 10,\n",
       "  'breathing_man_to_opening_wind': 10,\n",
       "  'walking_crowd_to_falling_water': 10,\n",
       "  'breaking_glasses_to_falling_wood': 10,\n",
       "  'ringing_glass_to_starting_car': 10,\n",
       "  'gurgling_toilet_to_clicking_car': 10,\n",
       "  'clicking_door_to_crackling_wood': 10,\n",
       "  'breaking_egg_to_talking_lady': 10,\n",
       "  'talking_alien_to_opening_ship': 10,\n",
       "  'growling_dog_to_waving_river': 10,\n",
       "  'splashing_stream_to_ringing_glasses': 10,\n",
       "  'banging_construction_to_banging_thunder': 10,\n",
       "  'crying_man_to_crackling_thunder': 10,\n",
       "  'talking_german_to_rolling_coin': 10},\n",
       " 50)"
      ]
     },
     "execution_count": 83,
     "metadata": {},
     "output_type": "execute_result"
    }
   ],
   "source": [
    "dirp = \"/media/appdir2/Github/audioldm2/eval/samples_morph_2/verb_noun_to_verb_noun\"\n",
    "\n",
    "nlist=[]\n",
    "for f in os.listdir(dirp):\n",
    "    tokens = \"_\".join(f.split(\".wav\")[0].split(\"_\")[:-1])\n",
    "    nlist.append(tokens)\n",
    "nlist = np.unique(np.array(nlist))\n",
    "print('Unique = ', len(nlist))\n",
    "\n",
    "a_map = {}\n",
    "for f in os.listdir(dirp):\n",
    "    tokens = \"_\".join(f.split(\".wav\")[0].split(\"_\")[:-1])\n",
    "\n",
    "    if tokens in a_map:\n",
    "        a_map[tokens] = a_map[tokens]+1\n",
    "    else:\n",
    "        a_map[tokens] = 0\n",
    "a_map, len(a_map)"
   ]
  },
  {
   "cell_type": "code",
   "execution_count": null,
   "metadata": {},
   "outputs": [],
   "source": []
  },
  {
   "cell_type": "markdown",
   "metadata": {},
   "source": [
    "## Adjective Noun to Adjective Noun morphing"
   ]
  },
  {
   "cell_type": "code",
   "execution_count": 105,
   "metadata": {},
   "outputs": [],
   "source": [
    "num_choices = 200\n",
    "source_pairs_choices = np.random.choice(adjective_noun_pairs, num_choices, replace=False)\n",
    "target_pairs_choices = np.random.choice(adjective_noun_pairs, num_choices, replace=False)\n",
    "dir_p = os.path.join('samples_morph_2', 'verb_noun_to_verb_noun')"
   ]
  },
  {
   "cell_type": "code",
   "execution_count": 106,
   "metadata": {},
   "outputs": [
    {
     "name": "stdout",
     "output_type": "stream",
     "text": [
      "evil monster windy tree\n",
      "weird noise distant atmosphere\n",
      "funny guitar scary english\n",
      "heavy rock annoying computer\n",
      "strange suspense slow sound\n"
     ]
    }
   ],
   "source": [
    "create_samples_2(dir_p, source_pairs_choices[100:105], target_pairs_choices[100:105])\n",
    "time.sleep(30)"
   ]
  },
  {
   "cell_type": "markdown",
   "metadata": {},
   "source": [
    "## Verb Noun to Verb Noun morphing"
   ]
  },
  {
   "cell_type": "code",
   "execution_count": 25,
   "metadata": {},
   "outputs": [],
   "source": [
    "num_choices = 50\n",
    "source_pairs_choices = np.random.choice(verb_noun_pairs, num_choices, replace=False)\n",
    "target_pairs_choices = np.random.choice(verb_noun_pairs, num_choices, replace=False)\n",
    "dir_p = os.path.join('samples_morph_2', 'verb_noun_to_verb_noun')"
   ]
  },
  {
   "cell_type": "code",
   "execution_count": 32,
   "metadata": {},
   "outputs": [
    {
     "name": "stdout",
     "output_type": "stream",
     "text": [
      "growling dragon passing engine\n",
      "ringing glass starting car\n",
      "walking crowd falling water\n",
      "breaking glasses falling wood\n",
      "talking alien opening ship\n"
     ]
    }
   ],
   "source": [
    "create_samples_2(dir_p, source_pairs_choices[20:25], target_pairs_choices[20:25])"
   ]
  },
  {
   "cell_type": "code",
   "execution_count": 33,
   "metadata": {},
   "outputs": [
    {
     "name": "stdout",
     "output_type": "stream",
     "text": [
      "ringing clock crying dog\n",
      "growling scream banging door\n",
      "walking dog howling wind\n",
      "braking car opening trash\n",
      "crackling footsteps breaking wood\n",
      "splashing rain crackling fire\n",
      "banging construction banging thunder\n",
      "whispering speech starting machine\n",
      "growling voice talking woman\n",
      "falling noise opening coke\n",
      "breaking wood ticking bell\n",
      "banging war accelerating engine\n",
      "whistling bird passing airplane\n",
      "crying woman growling creatures\n",
      "crying man crackling thunder\n",
      "opening book rolling metal\n",
      "breaking egg talking lady\n",
      "talking german rolling coin\n",
      "falling coin opening window\n",
      "gurgling toilet clicking car\n",
      "rolling thunder passing ship\n",
      "clicking computer ringing phone\n",
      "banging bird dripping metal\n",
      "breathing woman laughing speech\n",
      "whispering english whispering monster\n"
     ]
    }
   ],
   "source": [
    "import time\n",
    "\n",
    "create_samples_2(dir_p, source_pairs_choices[25:30], target_pairs_choices[25:30])\n",
    "time.sleep(30)\n",
    "create_samples_2(dir_p, source_pairs_choices[30:35], target_pairs_choices[30:35])\n",
    "time.sleep(30)\n",
    "create_samples_2(dir_p, source_pairs_choices[35:40], target_pairs_choices[35:40])\n",
    "time.sleep(30)\n",
    "create_samples_2(dir_p, source_pairs_choices[40:45], target_pairs_choices[40:45])\n",
    "time.sleep(30)\n",
    "create_samples_2(dir_p, source_pairs_choices[45:50], target_pairs_choices[45:50])\n",
    "\n"
   ]
  },
  {
   "cell_type": "code",
   "execution_count": null,
   "metadata": {},
   "outputs": [],
   "source": []
  },
  {
   "cell_type": "code",
   "execution_count": null,
   "metadata": {},
   "outputs": [],
   "source": []
  },
  {
   "cell_type": "code",
   "execution_count": null,
   "metadata": {},
   "outputs": [],
   "source": []
  },
  {
   "cell_type": "code",
   "execution_count": null,
   "metadata": {},
   "outputs": [],
   "source": []
  },
  {
   "cell_type": "code",
   "execution_count": 34,
   "metadata": {},
   "outputs": [],
   "source": [
    "import os\n",
    "os.environ[\"TOKENIZERS_PARALLELISM\"] = \"false\""
   ]
  },
  {
   "cell_type": "code",
   "execution_count": null,
   "metadata": {},
   "outputs": [],
   "source": []
  },
  {
   "cell_type": "markdown",
   "metadata": {},
   "source": [
    "# Evaluate Adjective Nouns to Adjective Nouns morph"
   ]
  },
  {
   "cell_type": "code",
   "execution_count": 107,
   "metadata": {},
   "outputs": [
    {
     "name": "stdout",
     "output_type": "stream",
     "text": [
      "-----Left------\n",
      "Mean CLAP score change =  0.1245031+/-0.10784953\n",
      "Mean corr =  0.7104514402716879+/-0.23765937352284353\n",
      "All score average per step =  tensor([0.1450, 0.1408, 0.1322, 0.1230, 0.1095, 0.0747, 0.0599, 0.0545, 0.0538,\n",
      "        0.0493, 0.0431])\n",
      "All score std per step =  tensor([0.1214, 0.1214, 0.1157, 0.1173, 0.1213, 0.1030, 0.1013, 0.0999, 0.1060,\n",
      "        0.1106, 0.1058])\n",
      "---------------\n",
      "-----Right------\n",
      "Mean CLAP score change =  0.12595731+/-0.08486428\n",
      "Mean corr =  0.7578712489528895+/-0.22671705757605803\n",
      "All score average per step =  tensor([0.0567, 0.0597, 0.0650, 0.0766, 0.0958, 0.1210, 0.1344, 0.1446, 0.1437,\n",
      "        0.1520, 0.1444])\n",
      "All score std per step =  tensor([0.1150, 0.1161, 0.1197, 0.1278, 0.1239, 0.1209, 0.1144, 0.1194, 0.1169,\n",
      "        0.1155, 0.1104])\n",
      "---------------\n",
      "calm_winter_to_industrial_engine tensor(0.3237) 0.947528897555994 tensor(0.1528) 0.8333527114982182\n",
      "crazy_noise_to_evil_alien tensor(0.0754) 0.47959061334911385 tensor(0.1775) 0.8657233062595809\n",
      "crazy_speech_to_slow_suspense tensor(0.1360) 0.8480403878185581 tensor(0.1862) 0.8093621366074217\n",
      "creepy_horror_to_mechanical_fan tensor(0.3283) 0.9025232241704356 tensor(0.1719) 0.9307043301870277\n",
      "creepy_man_to_heavy_rock tensor(0.0593) 0.5186612760553343 tensor(0.2429) 0.9485912414878993\n",
      "creepy_scream_to_weird_audio tensor(0.3401) 0.9548230304540453 tensor(0.0197) 0.3845235011539767\n",
      "creepy_terror_to_calm_piano tensor(0.2072) 0.9193662545013478 tensor(0.1905) 0.9314060085552521\n",
      "creepy_whisper_to_crazy_laughter tensor(0.2583) 0.7835785341780589 tensor(0.1317) 0.9024208422817154\n",
      "cute_voice_to_chaotic_water tensor(0.1390) 0.8610543442665991 tensor(0.1681) 0.736500869546436\n",
      "distant_atmosphere_to_funny_water tensor(0.0132) 0.24268351528356974 tensor(0.1048) 0.9567951639411456\n",
      "distant_background_to_noisy_glitch tensor(0.0704) 0.983146519853824 tensor(0.0312) 0.7870399378541133\n",
      "distant_thunder_to_extreme_wood tensor(0.0319) 0.8240860818316422 tensor(0.0798) 0.9398913253425074\n",
      "echoing_rave_to_rattling_toy tensor(0.1385) 0.5452835361320892 tensor(0.0143) 0.186166942749579\n",
      "echoing_sound_to_creepy_woman tensor(0.0365) 0.10187136467752744 tensor(0.0834) 0.41181904743774267\n",
      "evil_man_to_heavy_machine tensor(0.0753) 0.7613746836962706 tensor(0.0713) 0.36489536403522976\n",
      "evil_monster_to_mechanical_background tensor(0.0857) 0.7123395956113927 tensor(0.1469) 0.8804737343954226\n",
      "evil_sign_to_windy_background tensor(0.0919) 0.8017785498394847 tensor(0.2027) 0.8810755600902972\n",
      "evil_thriller_to_loud_street tensor(0.2028) 0.9133630264645148 tensor(0.1676) 0.9497346584309951\n",
      "evil_woman_to_creepy_fear tensor(0.0252) 0.6515590358924688 tensor(0.0279) 0.8371865818445678\n",
      "evil_woman_to_rumbling_thunder tensor(0.0441) 0.6507239896762231 tensor(0.1501) 0.7162208865098098\n",
      "extreme_water_to_funny_comedy tensor(0.1742) 0.8823051389439263 tensor(0.2042) 0.8657606825654102\n",
      "flapping_wings_to_extreme_noise tensor(0.0197) 0.6730627863235366 tensor(0.0531) 0.9156764922015123\n",
      "funny_fight_to_sad_melancholy tensor(0.0229) 0.6426194554842297 tensor(0.1677) 0.8006971018610715\n",
      "funny_laughter_to_industrial_sound tensor(0.2012) 0.8694419280370425 tensor(0.1009) 0.8889044321521491\n",
      "funny_story_to_strange_computer tensor(0.2046) 0.685519360882906 tensor(0.1276) 0.5574387181574542\n",
      "funny_words_to_crazy_glitch tensor(0.0573) 0.8169807662056219 tensor(0.1352) 0.9078210861708079\n",
      "happy_man_to_static_station tensor(0.1034) 0.7691155521009138 tensor(0.2538) 0.9071205298767324\n",
      "industrial_background_to_funny_toy tensor(0.2740) 0.8462192137292737 tensor(0.1821) 0.6849549223961215\n",
      "industrial_effects_to_rumbling_body tensor(0.0725) 0.7912136002930397 tensor(0.0792) 0.9620549670695856\n",
      "loud_effect_to_loud_atmosphere tensor(0.0255) 0.2361284994016069 tensor(0.0526) 0.5576730377757336\n",
      "loud_man_to_mechanical_space tensor(0.0915) 0.6219565801240796 tensor(0.2982) 0.9113165920180486\n",
      "loud_train_to_scary_animal tensor(0.3507) 0.914111133500035 tensor(0.0039) 0.29706115315046033\n",
      "loud_water_to_rumbling_earth tensor(0.1620) 0.9663248850126512 tensor(0.1215) 0.9237121138548533\n",
      "mechanical_metal_to_fast_machine tensor(0.0528) 0.4374500946230278 tensor(0.0446) 0.4830710901093094\n",
      "noisy_crowd_to_slow_hell tensor(0.0384) 0.8897496024514122 tensor(0.0508) 0.9361321591537757\n",
      "quiet_street_to_evil_word tensor(0.0032) 0.12418418646778244 tensor(0.0671) 0.8739878899040378\n",
      "rattling_car_to_slow_house tensor(0.2718) 0.8165072280704206 tensor(0.1544) 0.8882780888291315\n",
      "rattling_toy_to_static_toy tensor(0.0017) 0.20313609967969384 tensor(0.0411) 0.7061986958719876\n",
      "relaxing_atmosphere_to_creepy_nightmare tensor(0.0521) 0.8807025846210549 tensor(0.0998) 0.9125558471181472\n",
      "sad_horror_to_mechanical_water tensor(0.3648) 0.9203092077306714 tensor(0.3261) 0.9434121806220007\n",
      "scary_drama_to_evil_atmosphere tensor(0.0094) 0.6637814786875298 tensor(0.0065) 0.09904877614260527\n",
      "scary_ghost_to_relaxing_river tensor(0.0447) 0.3562687530071636 tensor(0.0363) 0.3784856678422105\n",
      "scary_sign_to_funny_fight tensor(0.1017) 0.8912163356087602 tensor(0.0511) 0.8063601579782929\n",
      "static_american_to_funny_humour tensor(0.0427) 0.7972161415477829 tensor(0.1237) 0.5137437859978515\n",
      "strange_effect_to_evil_audio tensor(0.2857) 0.9607503198989394 tensor(0.2731) 0.974185979795025\n",
      "weird_cartoon_to_static_toy tensor(0.0468) 0.4526676210150453 tensor(0.3139) 0.8535286617115245\n",
      "weird_end_to_relaxing_spring tensor(0.0937) 0.8789026780126862 tensor(0.0301) 0.8168837402510285\n"
     ]
    }
   ],
   "source": [
    "dir_p = os.path.join('samples_morph_2', 'adjective_noun_to_adjective_noun')\n",
    "\n",
    "adjective_noun_to_adjective_noun_list = []\n",
    "for f in os.listdir(dir_p):\n",
    "    tokens = \"_\".join(f.split(\".wav\")[0].split(\"_\")[:-1])\n",
    "    adjective_noun_to_adjective_noun_list.append(tokens)\n",
    "adjective_noun_to_adjective_noun_list = np.unique(np.array(adjective_noun_to_adjective_noun_list))\n",
    "\n",
    "left_list = []\n",
    "right_list = []\n",
    "for f in adjective_noun_to_adjective_noun_list:\n",
    "    tokens = f.split(\".\")[0].split(\"_to_\")\n",
    "    left_list.append(tokens[0])\n",
    "    right_list.append(tokens[1])\n",
    "\n",
    "\n",
    "left_clap_score_change_list = []\n",
    "left_perceptual_lin_score_list = []\n",
    "left_all_score_list = []\n",
    "\n",
    "right_clap_score_change_list = []\n",
    "right_perceptual_lin_score_list = []\n",
    "right_all_score_list = []\n",
    "\n",
    "for left_ind, left_text in enumerate(left_list):\n",
    "    right_text = right_list[left_ind]\n",
    "\n",
    "    wavs = []\n",
    "    for i in np.arange(0,1.1,0.1):\n",
    "        i_str = '{0:.1f}'.format(i)\n",
    "        fname = os.path.join(dir_p, left_text+\"_to_\"+right_text+\"_\"+i_str+\".wav\")\n",
    "        audio, _ = librosa.load(fname, sr=16000)\n",
    "        wavs.append(audio)\n",
    "\n",
    "    left_text = left_text.replace(\"_\", \" \")\n",
    "    change_in_score_1, perceptual_lin_1, score_list_1 = score_wav_text(wavs, left_text, random_seed=random_seed,is_reverse=True)\n",
    "    left_clap_score_change_list.append(change_in_score_1)\n",
    "    left_perceptual_lin_score_list.append(perceptual_lin_1)\n",
    "    left_all_score_list.append(torch.stack(score_list_1))\n",
    "\n",
    "    right_text = right_text.replace(\"_\", \" \")\n",
    "    change_in_score_2, perceptual_lin_2, score_list_2 = score_wav_text(wavs, right_text, random_seed=random_seed)\n",
    "    right_clap_score_change_list.append(change_in_score_2)\n",
    "    right_perceptual_lin_score_list.append(perceptual_lin_2)\n",
    "    right_all_score_list.append(torch.stack(score_list_2))\n",
    "\n",
    "\n",
    "left_clap_score_change_list = torch.stack(left_clap_score_change_list)\n",
    "left_perceptual_lin_score_list = np.array(left_perceptual_lin_score_list)\n",
    "\n",
    "right_clap_score_change_list = torch.stack(right_clap_score_change_list)\n",
    "right_perceptual_lin_score_list = np.array(right_perceptual_lin_score_list)\n",
    "\n",
    "left_all_score_list = torch.stack(left_all_score_list)\n",
    "left_all_score_list_mean = torch.mean(left_all_score_list, dim=0)\n",
    "left_all_score_list_std = torch.std(left_all_score_list, dim=0)\n",
    "right_all_score_list = torch.stack(right_all_score_list)\n",
    "right_all_score_list_mean = torch.mean(right_all_score_list, dim=0)\n",
    "right_all_score_list_std = torch.std(right_all_score_list, dim=0)\n",
    "\n",
    "print(\"-----Left------\")\n",
    "print(\"Mean CLAP score change = \", str(torch.mean(left_clap_score_change_list).numpy())+\"+/-\"+str(torch.std(left_clap_score_change_list).numpy()))\n",
    "print(\"Mean corr = \", str(np.mean(left_perceptual_lin_score_list))+\"+/-\"+str(np.std(left_perceptual_lin_score_list)))\n",
    "print(\"All score average per step = \", left_all_score_list_mean)\n",
    "print(\"All score std per step = \", left_all_score_list_std)\n",
    "print(\"---------------\")\n",
    "print(\"-----Right------\")\n",
    "print(\"Mean CLAP score change = \", str(torch.mean(right_clap_score_change_list).numpy())+\"+/-\"+str(torch.std(right_clap_score_change_list).numpy()))\n",
    "print(\"Mean corr = \", str(np.mean(right_perceptual_lin_score_list))+\"+/-\"+str(np.std(right_perceptual_lin_score_list)))\n",
    "print(\"All score average per step = \", right_all_score_list_mean)\n",
    "print(\"All score std per step = \", right_all_score_list_std)\n",
    "print(\"---------------\")\n",
    "\n",
    "\n",
    "for ind, adjective_noun_to_adjective_noun in enumerate(adjective_noun_to_adjective_noun_list):\n",
    "    print(adjective_noun_to_adjective_noun, \\\n",
    "          left_clap_score_change_list[ind], left_perceptual_lin_score_list[ind], \\\n",
    "          right_clap_score_change_list[ind], right_perceptual_lin_score_list[ind])"
   ]
  },
  {
   "cell_type": "code",
   "execution_count": null,
   "metadata": {},
   "outputs": [],
   "source": []
  },
  {
   "cell_type": "markdown",
   "metadata": {},
   "source": [
    "# Bootstrapped Adjective Noun to Adjective Noun Morph scores"
   ]
  },
  {
   "cell_type": "code",
   "execution_count": 108,
   "metadata": {},
   "outputs": [
    {
     "name": "stdout",
     "output_type": "stream",
     "text": [
      "-----Left------\n",
      "Mean CLAP score change =  0.12200812+/-0.074579805\n",
      "Mean corr =  0.7059466947020848+/-0.15325084642019166\n",
      "All score average per step =  tensor([0.1419, 0.1362, 0.1299, 0.1229, 0.1099, 0.0702, 0.0537, 0.0508, 0.0494,\n",
      "        0.0463, 0.0393])\n",
      "All score std per step =  tensor([0.0823, 0.0844, 0.0795, 0.0843, 0.0926, 0.0780, 0.0751, 0.0745, 0.0756,\n",
      "        0.0774, 0.0757])\n",
      "---------------\n",
      "-----Right------\n",
      "Mean CLAP score change =  0.12595731+/-0.08486428\n",
      "Mean corr =  0.7578712489528895+/-0.22671705757605803\n",
      "All score average per step =  tensor([0.0574, 0.0608, 0.0655, 0.0784, 0.0960, 0.1222, 0.1360, 0.1465, 0.1452,\n",
      "        0.1513, 0.1456])\n",
      "All score std per step =  tensor([0.0907, 0.0920, 0.0907, 0.0953, 0.0850, 0.0821, 0.0817, 0.0810, 0.0766,\n",
      "        0.0785, 0.0792])\n",
      "---------------\n"
     ]
    }
   ],
   "source": [
    "len_arr = len(adjective_noun_to_adjective_noun_list)\n",
    "\n",
    "left_bootstrap_clap_score_change_list = []\n",
    "left_bootstrap_perceptual_lin_score_list = []\n",
    "left_bootstrap_all_score_list = []\n",
    "\n",
    "right_bootstrap_clap_score_change_list = []\n",
    "right_bootstrap_perceptual_lin_score_list = []\n",
    "right_bootstrap_all_score_list = []\n",
    "for bootstrap_ind in range(num_bootstrap):\n",
    "    ind_choices = np.random.choice(np.arange(len_arr), 2, replace=False)\n",
    "    \n",
    "    left_clap_score_change_sublist = left_clap_score_change_list[ind_choices]\n",
    "    left_perceptual_lin_score_sublist = left_perceptual_lin_score_list[ind_choices]\n",
    "    left_clap_all_score_sublist = left_all_score_list[ind_choices]\n",
    "    \n",
    "    left_bootstrap_clap_score_change_list.append(torch.mean(left_clap_score_change_sublist))\n",
    "    left_bootstrap_perceptual_lin_score_list.append(np.mean(left_perceptual_lin_score_sublist))\n",
    "    left_bootstrap_all_score_list.append(torch.mean(left_clap_all_score_sublist, dim=0))\n",
    "\n",
    "    \n",
    "    right_clap_score_change_sublist = right_clap_score_change_list[ind_choices]\n",
    "    right_perceptual_lin_score_sublist = right_perceptual_lin_score_list[ind_choices]\n",
    "    right_clap_all_score_sublist = right_all_score_list[ind_choices]\n",
    "\n",
    "    right_bootstrap_clap_score_change_list.append(torch.mean(right_clap_score_change_sublist))\n",
    "    right_bootstrap_perceptual_lin_score_list.append(np.mean(right_perceptual_lin_score_sublist))\n",
    "    right_bootstrap_all_score_list.append(torch.mean(right_clap_all_score_sublist, dim=0))\n",
    "\n",
    "left_bootstrap_clap_score_change_list = torch.stack(left_bootstrap_clap_score_change_list)\n",
    "left_bootstrap_perceptual_lin_score_list = np.array(left_bootstrap_perceptual_lin_score_list)\n",
    "\n",
    "right_bootstrap_clap_score_change_list = torch.stack(right_bootstrap_clap_score_change_list)\n",
    "right_bootstrap_perceptual_lin_score_list = np.array(right_bootstrap_perceptual_lin_score_list)\n",
    "\n",
    "left_bootstrap_all_score_list = torch.stack(left_bootstrap_all_score_list)\n",
    "left_bootstrap_all_score_list_mean = torch.mean(left_bootstrap_all_score_list, dim=0)\n",
    "left_bootstrap_all_score_list_std = torch.std(left_bootstrap_all_score_list, dim=0)\n",
    "right_bootstrap_all_score_list = torch.stack(right_bootstrap_all_score_list)\n",
    "right_bootstrap_all_score_list_mean = torch.mean(right_bootstrap_all_score_list, dim=0)\n",
    "right_bootstrap_all_score_list_std = torch.std(right_bootstrap_all_score_list, dim=0)\n",
    "\n",
    "print(\"-----Left------\")\n",
    "print(\"Mean CLAP score change = \", str(torch.mean(left_bootstrap_clap_score_change_list).numpy())+\"+/-\"+str(torch.std(left_bootstrap_clap_score_change_list).numpy()))\n",
    "print(\"Mean corr = \", str(np.mean(left_bootstrap_perceptual_lin_score_list))+\"+/-\"+str(np.std(left_bootstrap_perceptual_lin_score_list)))\n",
    "print(\"All score average per step = \", left_bootstrap_all_score_list_mean)\n",
    "print(\"All score std per step = \", left_bootstrap_all_score_list_std)\n",
    "print(\"---------------\")\n",
    "print(\"-----Right------\")\n",
    "print(\"Mean CLAP score change = \", str(torch.mean(right_clap_score_change_list).numpy())+\"+/-\"+str(torch.std(right_clap_score_change_list).numpy()))\n",
    "print(\"Mean corr = \", str(np.mean(right_perceptual_lin_score_list))+\"+/-\"+str(np.std(right_perceptual_lin_score_list)))\n",
    "print(\"All score average per step = \", right_bootstrap_all_score_list_mean)\n",
    "print(\"All score std per step = \", right_bootstrap_all_score_list_std)\n",
    "print(\"---------------\")\n",
    "\n",
    "\n",
    "\n",
    "adj_noun_left_mean = left_bootstrap_all_score_list_mean\n",
    "adj_noun_left_std = left_bootstrap_all_score_list_std\n",
    "adj_noun_right_mean = right_bootstrap_all_score_list_mean\n",
    "adj_noun_right_std = right_bootstrap_all_score_list_std"
   ]
  },
  {
   "cell_type": "code",
   "execution_count": null,
   "metadata": {},
   "outputs": [],
   "source": []
  },
  {
   "cell_type": "markdown",
   "metadata": {},
   "source": [
    "## t-test"
   ]
  },
  {
   "cell_type": "code",
   "execution_count": 109,
   "metadata": {},
   "outputs": [
    {
     "data": {
      "text/plain": [
       "Ttest_indResult(statistic=4.336586233140717, pvalue=3.6988577668832134e-05)"
      ]
     },
     "execution_count": 109,
     "metadata": {},
     "output_type": "execute_result"
    }
   ],
   "source": [
    "ttest_ind(left_all_score_list[:,0], left_all_score_list[:,-1])"
   ]
  },
  {
   "cell_type": "code",
   "execution_count": 110,
   "metadata": {},
   "outputs": [
    {
     "data": {
      "text/plain": [
       "Ttest_indResult(statistic=-3.7722173100829672, pvalue=0.0002859768934280229)"
      ]
     },
     "execution_count": 110,
     "metadata": {},
     "output_type": "execute_result"
    }
   ],
   "source": [
    "ttest_ind(right_all_score_list[:,0], right_all_score_list[:,-1])"
   ]
  },
  {
   "cell_type": "code",
   "execution_count": 111,
   "metadata": {},
   "outputs": [
    {
     "data": {
      "text/plain": [
       "Ttest_indResult(statistic=3.6194597038453957, pvalue=0.0004824863633064518)"
      ]
     },
     "execution_count": 111,
     "metadata": {},
     "output_type": "execute_result"
    }
   ],
   "source": [
    "ttest_ind(left_all_score_list[:,0], right_all_score_list[:,0])"
   ]
  },
  {
   "cell_type": "code",
   "execution_count": 112,
   "metadata": {},
   "outputs": [
    {
     "data": {
      "text/plain": [
       "Ttest_indResult(statistic=-4.541271503483249, pvalue=1.6913498168233043e-05)"
      ]
     },
     "execution_count": 112,
     "metadata": {},
     "output_type": "execute_result"
    }
   ],
   "source": [
    "ttest_ind(left_all_score_list[:,-1], right_all_score_list[:,-1])"
   ]
  },
  {
   "cell_type": "code",
   "execution_count": null,
   "metadata": {},
   "outputs": [],
   "source": []
  },
  {
   "cell_type": "code",
   "execution_count": null,
   "metadata": {},
   "outputs": [],
   "source": []
  },
  {
   "cell_type": "code",
   "execution_count": 113,
   "metadata": {},
   "outputs": [
    {
     "data": {
      "text/plain": [
       "[<matplotlib.axis.YTick at 0x7ff1141abca0>,\n",
       " <matplotlib.axis.YTick at 0x7ff1141ab8b0>,\n",
       " <matplotlib.axis.YTick at 0x7ff1141fd5e0>,\n",
       " <matplotlib.axis.YTick at 0x7ff11415e9d0>,\n",
       " <matplotlib.axis.YTick at 0x7ff11416edc0>,\n",
       " <matplotlib.axis.YTick at 0x7ff11416e940>]"
      ]
     },
     "execution_count": 113,
     "metadata": {},
     "output_type": "execute_result"
    },
    {
     "data": {
      "image/png": "[encoded data removed]",
      "text/plain": [
       "<Figure size 640x480 with 1 Axes>"
      ]
     },
     "metadata": {},
     "output_type": "display_data"
    }
   ],
   "source": [
    "fig, ax = plt.subplots(1)\n",
    "\n",
    "left_mean = adj_noun_left_mean\n",
    "left_std = adj_noun_left_std\n",
    "right_mean = adj_noun_right_mean\n",
    "right_std = adj_noun_right_std\n",
    "\n",
    "ax.plot(np.arange(0,1.1,.1), left_mean,  label='Left Adjective Noun')\n",
    "ax.fill_between(np.arange(0,1.1,.1), left_mean+(left_std/2), left_mean-(left_std/2), alpha=0.4)\n",
    "\n",
    "ax.plot(np.arange(0,1.1,.1), right_mean,  label='Right Adjective Noun')\n",
    "ax.fill_between(np.arange(0,1.1,.1), right_mean+(right_std/2), right_mean-(right_std/2), alpha=0.4)\n",
    "\n",
    "ax.legend(loc='upper left')\n",
    "ax.set_xlabel('Interpolation Steps')\n",
    "ax.set_ylabel('CLAP text-audio similarity score')\n",
    "ax.set_xlim([0,1])\n",
    "ax.set_ylim([-0.05,0.21])\n",
    "ax.set_yticks([i for i in np.arange(-0.05,0.21,0.05)])"
   ]
  },
  {
   "cell_type": "code",
   "execution_count": null,
   "metadata": {},
   "outputs": [],
   "source": []
  },
  {
   "cell_type": "code",
   "execution_count": null,
   "metadata": {},
   "outputs": [],
   "source": []
  },
  {
   "cell_type": "markdown",
   "metadata": {},
   "source": [
    "# Evaluate Verb Noun to Verb Noun Morph"
   ]
  },
  {
   "cell_type": "code",
   "execution_count": 99,
   "metadata": {},
   "outputs": [
    {
     "name": "stdout",
     "output_type": "stream",
     "text": [
      "-----Left------\n",
      "Mean CLAP score change =  0.14123678+/-0.09265431\n",
      "Mean corr =  0.7467437780641536+/-0.22169572514835995\n",
      "All score average per step =  tensor([0.1323, 0.1257, 0.1184, 0.1056, 0.1018, 0.0802, 0.0647, 0.0394, 0.0181,\n",
      "        0.0121, 0.0102])\n",
      "All score std per step =  tensor([0.0873, 0.0838, 0.0817, 0.0906, 0.1052, 0.1110, 0.1020, 0.0960, 0.1010,\n",
      "        0.0982, 0.0964])\n",
      "---------------\n",
      "-----Right------\n",
      "Mean CLAP score change =  0.16488752+/-0.08971218\n",
      "Mean corr =  0.7882004696660587+/-0.20802812464800433\n",
      "All score average per step =  tensor([-0.0048,  0.0054,  0.0096,  0.0320,  0.0543,  0.0854,  0.1086,  0.1298,\n",
      "         0.1370,  0.1469,  0.1502])\n",
      "All score std per step =  tensor([0.0888, 0.0875, 0.0879, 0.0959, 0.1027, 0.1080, 0.1051, 0.0960, 0.0959,\n",
      "        0.0978, 0.0944])\n",
      "---------------\n",
      "banging_bird_to_dripping_metal tensor(0.1626) 0.9677499644063698 tensor(0.0834) 0.6546126600527997\n",
      "banging_construction_to_banging_thunder tensor(0.0709) 0.9256525765052289 tensor(0.0070) 0.26162194515879517\n",
      "banging_metal_to_waving_water tensor(0.2292) 0.9171416628421739 tensor(0.0281) 0.2256521920021863\n",
      "banging_war_to_accelerating_engine tensor(0.2171) 0.9015535717116737 tensor(0.2291) 0.8623215720776846\n",
      "braking_car_to_opening_trash tensor(0.2930) 0.9052115229944196 tensor(0.1774) 0.8961098016588656\n",
      "breaking_egg_to_talking_lady tensor(0.0558) 0.5775890159718324 tensor(0.0517) 0.6631733277180004\n",
      "breaking_glasses_to_falling_wood tensor(0.1485) 0.9868209646023678 tensor(0.0433) 0.36368092093143717\n",
      "breaking_wood_to_ticking_bell tensor(0.1983) 0.9449541797254932 tensor(0.2310) 0.9179596023862102\n",
      "breathing_man_to_opening_wind tensor(0.0145) 0.1583359458159618 tensor(0.2181) 0.9306645469998155\n",
      "breathing_woman_to_laughing_speech tensor(0.0164) 0.560118287230984 tensor(0.1993) 0.9705427605929335\n",
      "clicking_computer_to_ringing_phone tensor(0.0162) 0.30579784859444326 tensor(0.2215) 0.9815276966352251\n",
      "clicking_door_to_crackling_wood tensor(0.1845) 0.8906751724068817 tensor(0.0518) 0.3180988252710768\n",
      "clicking_fire_to_splashing_fountain tensor(0.0905) 0.7472801662397229 tensor(0.0988) 0.880510959290273\n",
      "crackling_footsteps_to_breaking_wood tensor(0.1235) 0.9284114722911737 tensor(0.0835) 0.9233205306394013\n",
      "crying_animal_to_falling_rock tensor(0.2120) 0.9427056029884519 tensor(0.1812) 0.9204964559024801\n",
      "crying_man_to_crackling_thunder tensor(0.0710) 0.7647931426347204 tensor(0.1994) 0.7129506578851701\n",
      "crying_woman_to_growling_creatures tensor(0.0201) 0.18715532774298654 tensor(0.2663) 0.9769160825900909\n",
      "falling_coin_to_opening_window tensor(0.0370) 0.4797603283916922 tensor(0.1768) 0.8921191899385899\n",
      "falling_noise_to_opening_coke tensor(0.1806) 0.7937617884194084 tensor(0.0094) 0.24935411421168963\n",
      "falling_wind_to_talking_voice tensor(0.0540) 0.6969156199475862 tensor(0.2046) 0.881285481370181\n",
      "flying_engine_to_whispering_speech tensor(0.1597) 0.7751133385704625 tensor(0.3411) 0.9208902086111057\n",
      "flying_helicopter_to_breaking_glasses tensor(0.1903) 0.967267539438263 tensor(0.3081) 0.9498265592870698\n",
      "growling_dog_to_waving_river tensor(0.3521) 0.8355248833360815 tensor(0.2462) 0.8799138108827804\n",
      "growling_dragon_to_passing_engine tensor(0.0145) 0.11183043140191797 tensor(0.0577) 0.6852514251191065\n",
      "growling_scream_to_banging_door tensor(0.3442) 0.9107387830630537 tensor(0.1054) 0.806985894788002\n",
      "growling_voice_to_talking_woman tensor(0.0148) 0.6233679767071436 tensor(0.1141) 0.4900539570445916\n",
      "gurgling_toilet_to_clicking_car tensor(0.2851) 0.7507595585168596 tensor(0.1464) 0.8275891248712941\n",
      "opening_book_to_rolling_metal tensor(0.1377) 0.8025957159914391 tensor(0.0244) 0.5512062008722746\n",
      "opening_voice_to_clicking_glitch tensor(0.0515) 0.6117073516738445 tensor(0.2610) 0.9043663787920072\n",
      "passing_engine_to_clicking_water tensor(0.1959) 0.8429557038745762 tensor(0.2906) 0.8661247859910844\n",
      "ringing_clock_to_crying_dog tensor(0.2824) 0.8761256975372922 tensor(0.1594) 0.8324185249192336\n",
      "ringing_glass_to_starting_car tensor(0.2791) 0.8291832683588393 tensor(0.2486) 0.9520495328580147\n",
      "ringing_metal_to_singing_woman tensor(0.1186) 0.8746578404827937 tensor(0.2353) 0.9821508940687118\n",
      "rolling_thunder_to_passing_ship tensor(0.1101) 0.8585892688137969 tensor(0.1159) 0.9708643230673677\n",
      "screaming_voice_to_growling_scream tensor(0.1541) 0.8664706473140056 tensor(0.3336) 0.9573277714805342\n",
      "splashing_rain_to_crackling_fire tensor(0.0076) 0.4551229541244312 tensor(0.2006) 0.9246250862200714\n",
      "splashing_stream_to_ringing_glasses tensor(0.1605) 0.9059212952928047 tensor(0.2479) 0.910232978176782\n",
      "squeaking_metal_to_crackling_snow tensor(0.0415) 0.6998532956131495 tensor(0.0328) 0.6218993051406004\n",
      "talking_alien_to_opening_ship tensor(0.1391) 0.595014043203838 tensor(0.1160) 0.749230402515276\n",
      "talking_baby_to_groaning_man tensor(0.1912) 0.9303685036009564 tensor(0.2493) 0.9413022189672531\n",
      "talking_computer_to_clicking_tick tensor(0.1898) 0.9425119971374998 tensor(0.2122) 0.8129021154726654\n",
      "talking_german_to_rolling_coin tensor(0.0542) 0.8172649453444467 tensor(0.2578) 0.9771556169939839\n",
      "walking_crowd_to_falling_water tensor(0.0390) 0.7893757295981083 tensor(0.2356) 0.8165930233661138\n",
      "walking_dog_to_howling_wind tensor(0.1746) 0.9654069970455303 tensor(0.1755) 0.7841985433509148\n",
      "whining_noise_to_clicking_office tensor(0.2266) 0.9786418036519556 tensor(0.1612) 0.9412155224678967\n",
      "whispering_english_to_whispering_monster tensor(0.0851) 0.7360590367240263 tensor(0.1858) 0.8729955672756243\n",
      "whispering_speech_to_starting_machine tensor(0.2542) 0.8127527422719104 tensor(0.1656) 0.7914487987610993\n",
      "whistling_bird_to_passing_airplane tensor(0.1587) 0.7041370856352267 tensor(0.1318) 0.9056119185421265\n",
      "whistling_railway_to_ringing_alert tensor(0.0919) 0.3762651303814805 tensor(0.0349) 0.4894748117375625\n",
      "whistling_train_to_ringing_ball tensor(0.1621) 0.509221177038377 tensor(0.0880) 0.8111988583488836\n"
     ]
    }
   ],
   "source": [
    "dir_p = os.path.join('samples_morph_2', 'verb_noun_to_verb_noun')\n",
    "\n",
    "verb_noun_to_verb_noun_list = []\n",
    "for f in os.listdir(dir_p):\n",
    "    tokens = \"_\".join(f.split(\".wav\")[0].split(\"_\")[:-1])\n",
    "    verb_noun_to_verb_noun_list.append(tokens)\n",
    "verb_noun_to_verb_noun_list = np.unique(np.array(verb_noun_to_verb_noun_list))\n",
    "\n",
    "left_list = []\n",
    "right_list = []\n",
    "for f in verb_noun_to_verb_noun_list:\n",
    "    tokens = f.split(\".\")[0].split(\"_to_\")\n",
    "    left_list.append(tokens[0])\n",
    "    right_list.append(tokens[1])\n",
    "\n",
    "\n",
    "left_clap_score_change_list = []\n",
    "left_perceptual_lin_score_list = []\n",
    "left_all_score_list = []\n",
    "\n",
    "right_clap_score_change_list = []\n",
    "right_perceptual_lin_score_list = []\n",
    "right_all_score_list = []\n",
    "\n",
    "for left_ind, left_text in enumerate(left_list):\n",
    "    right_text = right_list[left_ind]\n",
    "\n",
    "    wavs = []\n",
    "    for i in np.arange(0,1.1,0.1):\n",
    "        i_str = '{0:.1f}'.format(i)\n",
    "        fname = os.path.join(dir_p, left_text+\"_to_\"+right_text+\"_\"+i_str+\".wav\")\n",
    "        audio, _ = librosa.load(fname, sr=16000)\n",
    "        wavs.append(audio)\n",
    "\n",
    "    left_text = left_text.replace(\"_\", \" \")\n",
    "    change_in_score_1, perceptual_lin_1, score_list_1 = score_wav_text(wavs, left_text, random_seed=random_seed,is_reverse=True)\n",
    "    left_clap_score_change_list.append(change_in_score_1)\n",
    "    left_perceptual_lin_score_list.append(perceptual_lin_1)\n",
    "    left_all_score_list.append(torch.stack(score_list_1))\n",
    "\n",
    "    right_text = right_text.replace(\"_\", \" \")\n",
    "    change_in_score_2, perceptual_lin_2, score_list_2 = score_wav_text(wavs, right_text, random_seed=random_seed)\n",
    "    right_clap_score_change_list.append(change_in_score_2)\n",
    "    right_perceptual_lin_score_list.append(perceptual_lin_2)\n",
    "    right_all_score_list.append(torch.stack(score_list_2))\n",
    "\n",
    "\n",
    "left_clap_score_change_list = torch.stack(left_clap_score_change_list)\n",
    "left_perceptual_lin_score_list = np.array(left_perceptual_lin_score_list)\n",
    "\n",
    "right_clap_score_change_list = torch.stack(right_clap_score_change_list)\n",
    "right_perceptual_lin_score_list = np.array(right_perceptual_lin_score_list)\n",
    "\n",
    "left_all_score_list = torch.stack(left_all_score_list)\n",
    "left_all_score_list_mean = torch.mean(left_all_score_list, dim=0)\n",
    "left_all_score_list_std = torch.std(left_all_score_list, dim=0)\n",
    "right_all_score_list = torch.stack(right_all_score_list)\n",
    "right_all_score_list_mean = torch.mean(right_all_score_list, dim=0)\n",
    "right_all_score_list_std = torch.std(right_all_score_list, dim=0)\n",
    "\n",
    "print(\"-----Left------\")\n",
    "print(\"Mean CLAP score change = \", str(torch.mean(left_clap_score_change_list).numpy())+\"+/-\"+str(torch.std(left_clap_score_change_list).numpy()))\n",
    "print(\"Mean corr = \", str(np.mean(left_perceptual_lin_score_list))+\"+/-\"+str(np.std(left_perceptual_lin_score_list)))\n",
    "print(\"All score average per step = \", left_all_score_list_mean)\n",
    "print(\"All score std per step = \", left_all_score_list_std)\n",
    "print(\"---------------\")\n",
    "print(\"-----Right------\")\n",
    "print(\"Mean CLAP score change = \", str(torch.mean(right_clap_score_change_list).numpy())+\"+/-\"+str(torch.std(right_clap_score_change_list).numpy()))\n",
    "print(\"Mean corr = \", str(np.mean(right_perceptual_lin_score_list))+\"+/-\"+str(np.std(right_perceptual_lin_score_list)))\n",
    "print(\"All score average per step = \", right_all_score_list_mean)\n",
    "print(\"All score std per step = \", right_all_score_list_std)\n",
    "print(\"---------------\")\n",
    "\n",
    "for ind, verb_noun_to_verb_noun in enumerate(verb_noun_to_verb_noun_list):\n",
    "    print(verb_noun_to_verb_noun, \\\n",
    "          left_clap_score_change_list[ind], left_perceptual_lin_score_list[ind], \\\n",
    "          right_clap_score_change_list[ind], right_perceptual_lin_score_list[ind])"
   ]
  },
  {
   "cell_type": "code",
   "execution_count": null,
   "metadata": {},
   "outputs": [],
   "source": []
  },
  {
   "cell_type": "markdown",
   "metadata": {},
   "source": [
    "## t-test"
   ]
  },
  {
   "cell_type": "code",
   "execution_count": 101,
   "metadata": {},
   "outputs": [
    {
     "data": {
      "text/plain": [
       "Ttest_indResult(statistic=6.641135728230762, pvalue=1.7473219580837012e-09)"
      ]
     },
     "execution_count": 101,
     "metadata": {},
     "output_type": "execute_result"
    }
   ],
   "source": [
    "ttest_ind(left_all_score_list[:,0], left_all_score_list[:,-1])"
   ]
  },
  {
   "cell_type": "code",
   "execution_count": 102,
   "metadata": {},
   "outputs": [
    {
     "data": {
      "text/plain": [
       "Ttest_indResult(statistic=-8.453764707082835, pvalue=2.7036884297445156e-13)"
      ]
     },
     "execution_count": 102,
     "metadata": {},
     "output_type": "execute_result"
    }
   ],
   "source": [
    "ttest_ind(right_all_score_list[:,0], right_all_score_list[:,-1])"
   ]
  },
  {
   "cell_type": "code",
   "execution_count": 103,
   "metadata": {},
   "outputs": [
    {
     "data": {
      "text/plain": [
       "Ttest_indResult(statistic=7.784225917381224, pvalue=7.30104721922867e-12)"
      ]
     },
     "execution_count": 103,
     "metadata": {},
     "output_type": "execute_result"
    }
   ],
   "source": [
    "ttest_ind(left_all_score_list[:,0], right_all_score_list[:,0])"
   ]
  },
  {
   "cell_type": "code",
   "execution_count": 104,
   "metadata": {},
   "outputs": [
    {
     "data": {
      "text/plain": [
       "Ttest_indResult(statistic=-7.338021798155063, pvalue=6.36791065587993e-11)"
      ]
     },
     "execution_count": 104,
     "metadata": {},
     "output_type": "execute_result"
    }
   ],
   "source": [
    "ttest_ind(left_all_score_list[:,-1], right_all_score_list[:,-1])"
   ]
  },
  {
   "cell_type": "code",
   "execution_count": null,
   "metadata": {},
   "outputs": [],
   "source": []
  },
  {
   "cell_type": "markdown",
   "metadata": {},
   "source": [
    "# Bootstrapped Verb Noun to Verb Noun morph scores"
   ]
  },
  {
   "cell_type": "code",
   "execution_count": 100,
   "metadata": {},
   "outputs": [
    {
     "name": "stdout",
     "output_type": "stream",
     "text": [
      "-----Left------\n",
      "Mean CLAP score change =  0.13334766+/-0.06035477\n",
      "Mean corr =  0.7247810478569024+/-0.1595141180453854\n",
      "All score average per step =  tensor([0.1313, 0.1259, 0.1161, 0.1064, 0.1024, 0.0887, 0.0725, 0.0451, 0.0214,\n",
      "        0.0145, 0.0132])\n",
      "All score std per step =  tensor([0.0565, 0.0562, 0.0551, 0.0606, 0.0689, 0.0706, 0.0636, 0.0605, 0.0605,\n",
      "        0.0595, 0.0595])\n",
      "---------------\n",
      "-----Right------\n",
      "Mean CLAP score change =  0.16488752+/-0.08971218\n",
      "Mean corr =  0.7882004696660587+/-0.20802812464800433\n",
      "All score average per step =  tensor([-0.0081,  0.0013,  0.0067,  0.0274,  0.0494,  0.0841,  0.1086,  0.1294,\n",
      "         0.1338,  0.1446,  0.1482])\n",
      "All score std per step =  tensor([0.0618, 0.0615, 0.0619, 0.0673, 0.0722, 0.0698, 0.0662, 0.0608, 0.0636,\n",
      "        0.0668, 0.0651])\n",
      "---------------\n"
     ]
    }
   ],
   "source": [
    "len_arr = len(verb_noun_to_verb_noun_list)\n",
    "\n",
    "left_bootstrap_clap_score_change_list = []\n",
    "left_bootstrap_perceptual_lin_score_list = []\n",
    "left_bootstrap_all_score_list = []\n",
    "\n",
    "right_bootstrap_clap_score_change_list = []\n",
    "right_bootstrap_perceptual_lin_score_list = []\n",
    "right_bootstrap_all_score_list = []\n",
    "for bootstrap_ind in range(num_bootstrap):\n",
    "    ind_choices = np.random.choice(np.arange(len_arr), 2, replace=False)\n",
    "    \n",
    "    left_clap_score_change_sublist = left_clap_score_change_list[ind_choices]\n",
    "    left_perceptual_lin_score_sublist = left_perceptual_lin_score_list[ind_choices]\n",
    "    left_clap_all_score_sublist = left_all_score_list[ind_choices]\n",
    "    \n",
    "    left_bootstrap_clap_score_change_list.append(torch.mean(left_clap_score_change_sublist))\n",
    "    left_bootstrap_perceptual_lin_score_list.append(np.mean(left_perceptual_lin_score_sublist))\n",
    "    left_bootstrap_all_score_list.append(torch.mean(left_clap_all_score_sublist, dim=0))\n",
    "\n",
    "    \n",
    "    right_clap_score_change_sublist = right_clap_score_change_list[ind_choices]\n",
    "    right_perceptual_lin_score_sublist = right_perceptual_lin_score_list[ind_choices]\n",
    "    right_clap_all_score_sublist = right_all_score_list[ind_choices]\n",
    "\n",
    "    right_bootstrap_clap_score_change_list.append(torch.mean(right_clap_score_change_sublist))\n",
    "    right_bootstrap_perceptual_lin_score_list.append(np.mean(right_perceptual_lin_score_sublist))\n",
    "    right_bootstrap_all_score_list.append(torch.mean(right_clap_all_score_sublist, dim=0))\n",
    "\n",
    "left_bootstrap_clap_score_change_list = torch.stack(left_bootstrap_clap_score_change_list)\n",
    "left_bootstrap_perceptual_lin_score_list = np.array(left_bootstrap_perceptual_lin_score_list)\n",
    "\n",
    "right_bootstrap_clap_score_change_list = torch.stack(right_bootstrap_clap_score_change_list)\n",
    "right_bootstrap_perceptual_lin_score_list = np.array(right_bootstrap_perceptual_lin_score_list)\n",
    "\n",
    "left_bootstrap_all_score_list = torch.stack(left_bootstrap_all_score_list)\n",
    "left_bootstrap_all_score_list_mean = torch.mean(left_bootstrap_all_score_list, dim=0)\n",
    "left_bootstrap_all_score_list_std = torch.std(left_bootstrap_all_score_list, dim=0)\n",
    "right_bootstrap_all_score_list = torch.stack(right_bootstrap_all_score_list)\n",
    "right_bootstrap_all_score_list_mean = torch.mean(right_bootstrap_all_score_list, dim=0)\n",
    "right_bootstrap_all_score_list_std = torch.std(right_bootstrap_all_score_list, dim=0)\n",
    "\n",
    "print(\"-----Left------\")\n",
    "print(\"Mean CLAP score change = \", str(torch.mean(left_bootstrap_clap_score_change_list).numpy())+\"+/-\"+str(torch.std(left_bootstrap_clap_score_change_list).numpy()))\n",
    "print(\"Mean corr = \", str(np.mean(left_bootstrap_perceptual_lin_score_list))+\"+/-\"+str(np.std(left_bootstrap_perceptual_lin_score_list)))\n",
    "print(\"All score average per step = \", left_bootstrap_all_score_list_mean)\n",
    "print(\"All score std per step = \", left_bootstrap_all_score_list_std)\n",
    "print(\"---------------\")\n",
    "print(\"-----Right------\")\n",
    "print(\"Mean CLAP score change = \", str(torch.mean(right_clap_score_change_list).numpy())+\"+/-\"+str(torch.std(right_clap_score_change_list).numpy()))\n",
    "print(\"Mean corr = \", str(np.mean(right_perceptual_lin_score_list))+\"+/-\"+str(np.std(right_perceptual_lin_score_list)))\n",
    "print(\"All score average per step = \", right_bootstrap_all_score_list_mean)\n",
    "print(\"All score std per step = \", right_bootstrap_all_score_list_std)\n",
    "print(\"---------------\")\n",
    "\n",
    "\n",
    "\n",
    "verb_noun_left_mean = left_bootstrap_all_score_list_mean\n",
    "verb_noun_left_std = left_bootstrap_all_score_list_std\n",
    "verb_noun_right_mean = right_bootstrap_all_score_list_mean\n",
    "verb_noun_right_std = right_bootstrap_all_score_list_std"
   ]
  },
  {
   "cell_type": "code",
   "execution_count": null,
   "metadata": {},
   "outputs": [],
   "source": []
  },
  {
   "cell_type": "code",
   "execution_count": 79,
   "metadata": {},
   "outputs": [
    {
     "data": {
      "text/plain": [
       "[<matplotlib.axis.YTick at 0x7ff1444a8610>,\n",
       " <matplotlib.axis.YTick at 0x7ff14449cfd0>,\n",
       " <matplotlib.axis.YTick at 0x7ff14449c310>,\n",
       " <matplotlib.axis.YTick at 0x7ff14445de50>,\n",
       " <matplotlib.axis.YTick at 0x7ff144463dc0>,\n",
       " <matplotlib.axis.YTick at 0x7ff144463340>]"
      ]
     },
     "execution_count": 79,
     "metadata": {},
     "output_type": "execute_result"
    },
    {
     "data": {
      "image/png": "[encoded data removed]",
      "text/plain": [
       "<Figure size 640x480 with 1 Axes>"
      ]
     },
     "metadata": {},
     "output_type": "display_data"
    }
   ],
   "source": [
    "fig, ax = plt.subplots(1)\n",
    "\n",
    "left_mean = verb_noun_left_mean\n",
    "left_std = verb_noun_left_std\n",
    "right_mean = verb_noun_right_mean\n",
    "right_std = verb_noun_right_std\n",
    "\n",
    "ax.plot(np.arange(0,1.1,.1), left_mean,  label='Left Verb Noun')\n",
    "ax.fill_between(np.arange(0,1.1,.1), left_mean+(left_std/2), left_mean-(left_std/2), alpha=0.4)\n",
    "\n",
    "ax.plot(np.arange(0,1.1,.1), right_mean,  label='Right Verb Noun')\n",
    "ax.fill_between(np.arange(0,1.1,.1), right_mean+(right_std/2), right_mean-(right_std/2), alpha=0.4)\n",
    "\n",
    "ax.legend(loc='upper left')\n",
    "ax.set_xlabel('Interpolation Steps')\n",
    "ax.set_ylabel('CLAP text-audio similarity score')\n",
    "ax.set_xlim([0,1])\n",
    "ax.set_ylim([-0.05,0.21])\n",
    "ax.set_yticks([i for i in np.arange(-0.05,0.21,0.05)])"
   ]
  },
  {
   "cell_type": "code",
   "execution_count": null,
   "metadata": {},
   "outputs": [],
   "source": []
  },
  {
   "cell_type": "code",
   "execution_count": null,
   "metadata": {},
   "outputs": [],
   "source": []
  }
 ],
 "metadata": {
  "kernelspec": {
   "display_name": "audioldm2",
   "language": "python",
   "name": "audioldm2"
  },
  "language_info": {
   "codemirror_mode": {
    "name": "ipython",
    "version": 3
   },
   "file_extension": ".py",
   "mimetype": "text/x-python",
   "name": "python",
   "nbconvert_exporter": "python",
   "pygments_lexer": "ipython3",
   "version": "3.8.18"
  }
 },
 "nbformat": 4,
 "nbformat_minor": 5
}
